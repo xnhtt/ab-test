{
 "cells": [
  {
   "cell_type": "code",
   "execution_count": 68,
   "metadata": {},
   "outputs": [],
   "source": [
    "from scipy.stats import norm\n",
    "from scipy.stats import binom_test \n",
    "import matplotlib.pyplot as plt\n",
    "import math\n",
    "import numpy as np\n",
    "import pandas as pd"
   ]
  },
  {
   "cell_type": "code",
   "execution_count": 30,
   "metadata": {},
   "outputs": [],
   "source": [
    "data_contr = pd.read_csv('Final Project Results - Control.csv')\n",
    "data_exp = pd.read_csv('Final Project Results - Experiment.csv')"
   ]
  },
  {
   "cell_type": "code",
   "execution_count": 31,
   "metadata": {},
   "outputs": [
    {
     "data": {
      "text/html": [
       "<div>\n",
       "<style scoped>\n",
       "    .dataframe tbody tr th:only-of-type {\n",
       "        vertical-align: middle;\n",
       "    }\n",
       "\n",
       "    .dataframe tbody tr th {\n",
       "        vertical-align: top;\n",
       "    }\n",
       "\n",
       "    .dataframe thead th {\n",
       "        text-align: right;\n",
       "    }\n",
       "</style>\n",
       "<table border=\"1\" class=\"dataframe\">\n",
       "  <thead>\n",
       "    <tr style=\"text-align: right;\">\n",
       "      <th></th>\n",
       "      <th>Date</th>\n",
       "      <th>Pageviews</th>\n",
       "      <th>Clicks</th>\n",
       "      <th>Enrollments</th>\n",
       "      <th>Payments</th>\n",
       "    </tr>\n",
       "  </thead>\n",
       "  <tbody>\n",
       "    <tr>\n",
       "      <th>0</th>\n",
       "      <td>Sat, Oct 11</td>\n",
       "      <td>7723</td>\n",
       "      <td>687</td>\n",
       "      <td>134.0</td>\n",
       "      <td>70.0</td>\n",
       "    </tr>\n",
       "    <tr>\n",
       "      <th>1</th>\n",
       "      <td>Sun, Oct 12</td>\n",
       "      <td>9102</td>\n",
       "      <td>779</td>\n",
       "      <td>147.0</td>\n",
       "      <td>70.0</td>\n",
       "    </tr>\n",
       "    <tr>\n",
       "      <th>2</th>\n",
       "      <td>Mon, Oct 13</td>\n",
       "      <td>10511</td>\n",
       "      <td>909</td>\n",
       "      <td>167.0</td>\n",
       "      <td>95.0</td>\n",
       "    </tr>\n",
       "    <tr>\n",
       "      <th>3</th>\n",
       "      <td>Tue, Oct 14</td>\n",
       "      <td>9871</td>\n",
       "      <td>836</td>\n",
       "      <td>156.0</td>\n",
       "      <td>105.0</td>\n",
       "    </tr>\n",
       "    <tr>\n",
       "      <th>4</th>\n",
       "      <td>Wed, Oct 15</td>\n",
       "      <td>10014</td>\n",
       "      <td>837</td>\n",
       "      <td>163.0</td>\n",
       "      <td>64.0</td>\n",
       "    </tr>\n",
       "  </tbody>\n",
       "</table>\n",
       "</div>"
      ],
      "text/plain": [
       "          Date  Pageviews  Clicks  Enrollments  Payments\n",
       "0  Sat, Oct 11       7723     687        134.0      70.0\n",
       "1  Sun, Oct 12       9102     779        147.0      70.0\n",
       "2  Mon, Oct 13      10511     909        167.0      95.0\n",
       "3  Tue, Oct 14       9871     836        156.0     105.0\n",
       "4  Wed, Oct 15      10014     837        163.0      64.0"
      ]
     },
     "execution_count": 31,
     "metadata": {},
     "output_type": "execute_result"
    }
   ],
   "source": [
    "data_contr.head()"
   ]
  },
  {
   "cell_type": "markdown",
   "metadata": {},
   "source": [
    "# Experiment Design"
   ]
  },
  {
   "cell_type": "markdown",
   "metadata": {},
   "source": [
    "## Choosing Invariant Metric"
   ]
  },
  {
   "cell_type": "markdown",
   "metadata": {},
   "source": [
    "1. Number of cookies: number of unique cookies to view the course overview page. (dmin=3000)\n",
    "2. Number of clicks: number of unique cookies to click the \"Start free trial\" button (which happens before the free trial screener is trigger). (dmin=240)\n",
    "3. Click-through-probability: number of unique cookies to click the \"Start free trial\" button divided by number of unique cookies to view the course overview page. (dmin=0.01)"
   ]
  },
  {
   "cell_type": "markdown",
   "metadata": {},
   "source": [
    "## Choosing Evaluation Metrics"
   ]
  },
  {
   "cell_type": "markdown",
   "metadata": {},
   "source": [
    "1. Gross conversion: # of user id completed check-out / # of cookies clicked the \"start\" button (d_min = 0.01)\n",
    "2. Retention: # of user-ids to remain enrolled past the 14-day boundary (i.e., made at least 1 payment) / # of user-ids to complete checkout (dmin=0.01)\n",
    "3. Net conversion: # of user-ids to remain enrolled past the 14-day boundary / # of unique cookies to click the \"Start free trial\" button. (dmin= 0.0075)"
   ]
  },
  {
   "cell_type": "markdown",
   "metadata": {},
   "source": [
    "## Standard Deviation for Evaluation Metrics (Analytical Estimate)"
   ]
  },
  {
   "cell_type": "markdown",
   "metadata": {},
   "source": [
    "Assumption on sample size: 5000 cookies visiting the course overview page\n",
    "\n",
    "Baseline Values:\n",
    "- Unique cookies to view course overview page per day: 40000\n",
    "- Unique cookies to click \"Start free trial\" per day:\t3200\n",
    "- Enrollments per day:\t660\n",
    "- Click-through-probability on \"Start free trial\":\t0.08\n",
    "- Probability of enrolling, given click:\t0.20625\n",
    "- Probability of payment, given enroll:\t0.53 \n",
    "- Probability of payment, given click\t0.1093125"
   ]
  },
  {
   "cell_type": "markdown",
   "metadata": {},
   "source": [
    "#### Gross conversion: \n",
    "Analytical estimate likely underestimates the true value as unit of diversion (user id) and unit of analysis (cookies) are different"
   ]
  },
  {
   "cell_type": "code",
   "execution_count": 7,
   "metadata": {},
   "outputs": [
    {
     "name": "stdout",
     "output_type": "stream",
     "text": [
      "Analytical std for gross conversion: 0.0202\n"
     ]
    }
   ],
   "source": [
    "sample_size = 5000 * 3200 / 40000\n",
    "p = 0.20625\n",
    "std_gross_conversion = math.sqrt(p * (1-p) / sample_size)\n",
    "print('Analytical std for gross conversion: {:.4f}'.format(std_gross_conversion))"
   ]
  },
  {
   "cell_type": "markdown",
   "metadata": {},
   "source": [
    "#### Retention: \n",
    "Unit of diversion and unit of analysis are both user id, as such emplirical variance is likely be close to analytical estimate"
   ]
  },
  {
   "cell_type": "code",
   "execution_count": 8,
   "metadata": {},
   "outputs": [
    {
     "name": "stdout",
     "output_type": "stream",
     "text": [
      "Analytical std for retention: 0.0549\n"
     ]
    }
   ],
   "source": [
    "sample_size = 5000 * 660 / 40000\n",
    "p = 0.53\n",
    "std_retention = math.sqrt(p * (1-p) / sample_size)\n",
    "print('Analytical std for retention: {:.4f}'.format(std_retention))"
   ]
  },
  {
   "cell_type": "markdown",
   "metadata": {},
   "source": [
    "#### Net Conversion: \n",
    "Analytical estimate likely underestimates the true value, as unit of diversion (user id) and unit of analysis (cookies) are different"
   ]
  },
  {
   "cell_type": "code",
   "execution_count": 9,
   "metadata": {},
   "outputs": [
    {
     "name": "stdout",
     "output_type": "stream",
     "text": [
      "Analytical std for net conversion: 0.0156\n"
     ]
    }
   ],
   "source": [
    "sample_size = 5000 * 3200 / 40000\n",
    "p = 0.1093126\n",
    "std_net_conversion = math.sqrt(p * (1-p) / sample_size)\n",
    "print('Analytical std for net conversion: {:.4f}'.format(std_net_conversion))"
   ]
  },
  {
   "cell_type": "markdown",
   "metadata": {},
   "source": [
    "## Sizing"
   ]
  },
  {
   "cell_type": "markdown",
   "metadata": {},
   "source": [
    "### Use Bonferroni correction?\n",
    "\n",
    "No, as the evaluation metrics are highly correlated to each other, Bonferroni correct is too conservative in this case"
   ]
  },
  {
   "cell_type": "markdown",
   "metadata": {},
   "source": [
    "### Choosing Number of Samples given Power\n",
    "\n",
    "Using the analytic estimates of variance, how many pageviews total (across both groups) would you need to collect to adequately power the experiment? Use an alpha of 0.05 and a beta of 0.2. Make sure you have enough power for each metric."
   ]
  },
  {
   "cell_type": "code",
   "execution_count": 15,
   "metadata": {},
   "outputs": [],
   "source": [
    "# required setups\n",
    "p = 0.95\n",
    "alpha = 1-p  \n",
    "beta = 0.2\n",
    "d_min_gc = 0.01\n",
    "d_min_ret = 0.01\n",
    "d_min_nc = 0.0075\n",
    "p_gc = 0.20625\n",
    "p_ret = 0.53\n",
    "p_nc = 0.1093125"
   ]
  },
  {
   "cell_type": "code",
   "execution_count": 13,
   "metadata": {},
   "outputs": [
    {
     "name": "stdout",
     "output_type": "stream",
     "text": [
      "Critical_val_1: 1.959963984540054\n",
      "critical_val_2: -0.8416212335729142\n"
     ]
    }
   ],
   "source": [
    "# retrieve value <= probability \n",
    "# for 2-tailed test\n",
    "critical_val_1 = norm.ppf(1-alpha/2)\n",
    "print(f'Critical_val_1: {critical_val_1}')\n",
    "critical_val_2 = norm.ppf(beta)\n",
    "print(f'critical_val_2: {critical_val_2}')"
   ]
  },
  {
   "cell_type": "markdown",
   "metadata": {},
   "source": [
    "#### Samples (# of pageviews) needed for Gross conversion"
   ]
  },
  {
   "cell_type": "code",
   "execution_count": 23,
   "metadata": {},
   "outputs": [
    {
     "name": "stdout",
     "output_type": "stream",
     "text": [
      "SE_required: 0.0035694077536344176\n",
      "N_required_cookie to click: 51397.898385401604\n",
      "642473.7298175201\n"
     ]
    }
   ],
   "source": [
    "SE_required = d_min_gc/(critical_val_1 - critical_val_2)\n",
    "print(f'SE_required: {SE_required}')\n",
    "N_required_cookie = 2 * 2 * (p_gc * (1-p_gc)) / (SE_required ** 2) \n",
    "N_required_pageview = N_required_cookie / 3200 * 40000\n",
    "print(f'N_required_pageview: {N_required_pageview}')"
   ]
  },
  {
   "cell_type": "markdown",
   "metadata": {},
   "source": [
    "#### Samples (# of pageviews) needed for Retention"
   ]
  },
  {
   "cell_type": "code",
   "execution_count": 25,
   "metadata": {},
   "outputs": [
    {
     "name": "stdout",
     "output_type": "stream",
     "text": [
      "SE_required: 0.0035694077536344176\n",
      "N_required_pageview: 4739771.980185109\n"
     ]
    }
   ],
   "source": [
    "SE_required = d_min_ret/(critical_val_1 - critical_val_2)\n",
    "print(f'SE_required: {SE_required}')\n",
    "N_required_cookie = 2 * 2 * (p_ret * (1-p_ret)) / SE_required ** 2 \n",
    "#print(f'N_required_cookie to enroll: {N_required_cookie}')\n",
    "N_required_pageview = N_required_cookie / 660 * 40000\n",
    "print(f'N_required_pageview: {N_required_pageview}')"
   ]
  },
  {
   "cell_type": "markdown",
   "metadata": {},
   "source": [
    "#### Samples (# of pageviews) needed for Net Conversion"
   ]
  },
  {
   "cell_type": "code",
   "execution_count": 24,
   "metadata": {},
   "outputs": [
    {
     "name": "stdout",
     "output_type": "stream",
     "text": [
      "SE_required: 0.002677055815225813\n",
      "N_required_pageview: 679282.3594783728\n"
     ]
    }
   ],
   "source": [
    "SE_required = d_min_nc/(critical_val_1 - critical_val_2)\n",
    "print(f'SE_required: {SE_required}')\n",
    "N_required_cookie = 2 * 2 * (p_nc * (1-p_nc)) / SE_required ** 2 \n",
    "#print(f'N_required_cookie to enroll: {N_required_cookie}')\n",
    "N_required_pageview = N_required_cookie / 3200 * 40000\n",
    "print(f'N_required_pageview: {N_required_pageview}')"
   ]
  },
  {
   "cell_type": "code",
   "execution_count": null,
   "metadata": {},
   "outputs": [],
   "source": []
  },
  {
   "cell_type": "markdown",
   "metadata": {},
   "source": [
    "### Choosing Duration vs. Exposure"
   ]
  },
  {
   "cell_type": "code",
   "execution_count": 29,
   "metadata": {},
   "outputs": [
    {
     "name": "stdout",
     "output_type": "stream",
     "text": [
      "Duration if using Gross Conversion: 16.061825\n",
      "Duration if using Retention: 118.49429950462773\n",
      "Duration if using Net Conversion: 16.98205898695932\n"
     ]
    }
   ],
   "source": [
    "print(f'Duration if using Gross Conversion: {642473 / 40000}')\n",
    "print(f'Duration if using Retention: {4739771.980185109 / 40000}')\n",
    "print(f'Duration if using Net Conversion: {679282.3594783728 / 40000}')"
   ]
  },
  {
   "cell_type": "markdown",
   "metadata": {},
   "source": [
    "Choose Net Convesersion as the evaluation metric, as Retention takes too long to run\n",
    "The change is not too risky, we can use 100% of the traffic to perform the test, it will take about 17 days"
   ]
  },
  {
   "cell_type": "markdown",
   "metadata": {},
   "source": [
    "# Experiment Analysis"
   ]
  },
  {
   "cell_type": "markdown",
   "metadata": {},
   "source": [
    "## Sanity Checks "
   ]
  },
  {
   "cell_type": "markdown",
   "metadata": {},
   "source": [
    "- For invariant metrics we expect equal diversion into the experiment and control group.\n",
    "\n",
    "- For each invariant metric, compute a 95% confidence interval for the value you expect to observe."
   ]
  },
  {
   "cell_type": "markdown",
   "metadata": {},
   "source": [
    "#### Number of cookies (on pageview)"
   ]
  },
  {
   "cell_type": "code",
   "execution_count": 38,
   "metadata": {},
   "outputs": [
    {
     "name": "stdout",
     "output_type": "stream",
     "text": [
      "Confidence Interval for pageviews: [0.4988,0.5012]\n",
      "Observed:  0.5006\n"
     ]
    }
   ],
   "source": [
    "total_pageview_exp = sum(data_exp['Pageviews'])\n",
    "total_pageview_contr = sum(data_contr['Pageviews'])\n",
    "se_pageview = math.sqrt(0.5 * 0.5 / (total_pageview_exp + total_pageview_contr))\n",
    "m = 1.96 * se_pageview\n",
    "ci_min,ci_max = 0.5-m, 0.5+m\n",
    "print(\"Confidence Interval for pageviews: [{},{}]\".format(round(ci_min,4),round(ci_max,4)))\n",
    "print(\"Observed: \",round(total_pageview_contr/(total_pageview_exp+total_pageview_contr),4))"
   ]
  },
  {
   "cell_type": "markdown",
   "metadata": {},
   "source": [
    "#### Number of Clicks (on the \"start free trial\" button)"
   ]
  },
  {
   "cell_type": "code",
   "execution_count": 39,
   "metadata": {},
   "outputs": [
    {
     "name": "stdout",
     "output_type": "stream",
     "text": [
      "Confidence Interval for clicks: [0.4959,0.5041]\n",
      "Observed:  0.5005\n"
     ]
    }
   ],
   "source": [
    "total_click_exp = sum(data_exp['Clicks'])\n",
    "total_click_contr = sum(data_contr['Clicks'])\n",
    "se_click = math.sqrt(0.5 * 0.5 / (total_click_exp + total_click_contr))\n",
    "m = 1.96 * se_click\n",
    "ci_min,ci_max = 0.5-m, 0.5+m\n",
    "print(\"Confidence Interval for clicks: [{},{}]\".format(round(ci_min,4),round(ci_max,4)))\n",
    "print(\"Observed: \",round(total_click_contr/(total_click_exp+total_click_contr),4))"
   ]
  },
  {
   "cell_type": "markdown",
   "metadata": {},
   "source": [
    "#### Click-through-probability"
   ]
  },
  {
   "cell_type": "code",
   "execution_count": 41,
   "metadata": {},
   "outputs": [
    {
     "name": "stdout",
     "output_type": "stream",
     "text": [
      "Confidence Interval for click-thru-prob: [-0.0013,0.0013]\n",
      "Observed:  0.0001\n"
     ]
    }
   ],
   "source": [
    "ctp_exp = total_click_exp / total_pageview_exp\n",
    "ctp_contr = total_click_contr / total_pageview_contr\n",
    "p_pool = (total_click_exp + total_click_contr) / (total_pageview_exp + total_pageview_contr)\n",
    "se_ctp = math.sqrt(p_pool * (1-p_pool) * (1 / total_pageview_exp + 1 / total_pageview_contr))\n",
    "m = 1.96 * se_ctp\n",
    "ci_min,ci_max = -m, +m\n",
    "print(\"Confidence Interval for click-thru-prob: [{},{}]\".format(round(ci_min,4),round(ci_max,4)))\n",
    "print(\"Observed: \",round(ctp_exp - ctp_contr,4))"
   ]
  },
  {
   "cell_type": "markdown",
   "metadata": {},
   "source": [
    "## Effect Size Tests\n",
    "Check for Practical and Statistical Significance"
   ]
  },
  {
   "cell_type": "markdown",
   "metadata": {},
   "source": [
    "#### Gross conversion: # of user id completed check-out / # of cookies clicked the \"start\" button (d_min = 0.01)"
   ]
  },
  {
   "cell_type": "code",
   "execution_count": 60,
   "metadata": {},
   "outputs": [
    {
     "name": "stdout",
     "output_type": "stream",
     "text": [
      "Confidence Interval for gross conversion: [-0.0291,-0.012]\n",
      "Observed:  -0.0206\n",
      "Both statitically and practically significant\n"
     ]
    }
   ],
   "source": [
    "total_enroll_exp = sum(data_exp[data_exp.Payments.notnull()]['Enrollments'])\n",
    "total_enroll_contr = sum(data_contr[data_contr.Payments.notnull()]['Enrollments'])\n",
    "total_click_exp = sum(data_exp[data_exp.Payments.notnull()]['Clicks'])\n",
    "total_click_contr = sum(data_contr[data_contr.Payments.notnull()]['Clicks'])\n",
    "gc_exp = total_enroll_exp / total_click_exp\n",
    "gc_contr = total_enroll_contr / total_click_contr\n",
    "gc_diff = gc_exp - gc_contr\n",
    "p_pool = (total_enroll_exp + total_enroll_contr) / (total_click_exp + total_click_contr)\n",
    "se_gc = math.sqrt(p_pool * (1-p_pool) * (1 / total_click_exp + 1 / total_click_contr))\n",
    "#print(se_gc)\n",
    "m = 1.96 * se_gc\n",
    "ci_min,ci_max = gc_diff-m, gc_diff+m\n",
    "print(\"Confidence Interval for gross conversion: [{},{}]\".format(round(ci_min,4),round(ci_max,4)))\n",
    "print(\"Observed: \",round(gc_exp - gc_contr,4))\n",
    "print(\"Both statitically and practically significant\")"
   ]
  },
  {
   "cell_type": "code",
   "execution_count": 52,
   "metadata": {
    "collapsed": true
   },
   "outputs": [
    {
     "data": {
      "text/html": [
       "<div>\n",
       "<style scoped>\n",
       "    .dataframe tbody tr th:only-of-type {\n",
       "        vertical-align: middle;\n",
       "    }\n",
       "\n",
       "    .dataframe tbody tr th {\n",
       "        vertical-align: top;\n",
       "    }\n",
       "\n",
       "    .dataframe thead th {\n",
       "        text-align: right;\n",
       "    }\n",
       "</style>\n",
       "<table border=\"1\" class=\"dataframe\">\n",
       "  <thead>\n",
       "    <tr style=\"text-align: right;\">\n",
       "      <th></th>\n",
       "      <th>Date</th>\n",
       "      <th>Pageviews</th>\n",
       "      <th>Clicks</th>\n",
       "      <th>Enrollments</th>\n",
       "      <th>Payments</th>\n",
       "    </tr>\n",
       "  </thead>\n",
       "  <tbody>\n",
       "    <tr>\n",
       "      <th>0</th>\n",
       "      <td>Sat, Oct 11</td>\n",
       "      <td>7716</td>\n",
       "      <td>686</td>\n",
       "      <td>105.0</td>\n",
       "      <td>34.0</td>\n",
       "    </tr>\n",
       "    <tr>\n",
       "      <th>1</th>\n",
       "      <td>Sun, Oct 12</td>\n",
       "      <td>9288</td>\n",
       "      <td>785</td>\n",
       "      <td>116.0</td>\n",
       "      <td>91.0</td>\n",
       "    </tr>\n",
       "    <tr>\n",
       "      <th>2</th>\n",
       "      <td>Mon, Oct 13</td>\n",
       "      <td>10480</td>\n",
       "      <td>884</td>\n",
       "      <td>145.0</td>\n",
       "      <td>79.0</td>\n",
       "    </tr>\n",
       "    <tr>\n",
       "      <th>3</th>\n",
       "      <td>Tue, Oct 14</td>\n",
       "      <td>9867</td>\n",
       "      <td>827</td>\n",
       "      <td>138.0</td>\n",
       "      <td>92.0</td>\n",
       "    </tr>\n",
       "    <tr>\n",
       "      <th>4</th>\n",
       "      <td>Wed, Oct 15</td>\n",
       "      <td>9793</td>\n",
       "      <td>832</td>\n",
       "      <td>140.0</td>\n",
       "      <td>94.0</td>\n",
       "    </tr>\n",
       "    <tr>\n",
       "      <th>5</th>\n",
       "      <td>Thu, Oct 16</td>\n",
       "      <td>9500</td>\n",
       "      <td>788</td>\n",
       "      <td>129.0</td>\n",
       "      <td>61.0</td>\n",
       "    </tr>\n",
       "    <tr>\n",
       "      <th>6</th>\n",
       "      <td>Fri, Oct 17</td>\n",
       "      <td>9088</td>\n",
       "      <td>780</td>\n",
       "      <td>127.0</td>\n",
       "      <td>44.0</td>\n",
       "    </tr>\n",
       "    <tr>\n",
       "      <th>7</th>\n",
       "      <td>Sat, Oct 18</td>\n",
       "      <td>7664</td>\n",
       "      <td>652</td>\n",
       "      <td>94.0</td>\n",
       "      <td>62.0</td>\n",
       "    </tr>\n",
       "    <tr>\n",
       "      <th>8</th>\n",
       "      <td>Sun, Oct 19</td>\n",
       "      <td>8434</td>\n",
       "      <td>697</td>\n",
       "      <td>120.0</td>\n",
       "      <td>77.0</td>\n",
       "    </tr>\n",
       "    <tr>\n",
       "      <th>9</th>\n",
       "      <td>Mon, Oct 20</td>\n",
       "      <td>10496</td>\n",
       "      <td>860</td>\n",
       "      <td>153.0</td>\n",
       "      <td>98.0</td>\n",
       "    </tr>\n",
       "    <tr>\n",
       "      <th>10</th>\n",
       "      <td>Tue, Oct 21</td>\n",
       "      <td>10551</td>\n",
       "      <td>864</td>\n",
       "      <td>143.0</td>\n",
       "      <td>71.0</td>\n",
       "    </tr>\n",
       "    <tr>\n",
       "      <th>11</th>\n",
       "      <td>Wed, Oct 22</td>\n",
       "      <td>9737</td>\n",
       "      <td>801</td>\n",
       "      <td>128.0</td>\n",
       "      <td>70.0</td>\n",
       "    </tr>\n",
       "    <tr>\n",
       "      <th>12</th>\n",
       "      <td>Thu, Oct 23</td>\n",
       "      <td>8176</td>\n",
       "      <td>642</td>\n",
       "      <td>122.0</td>\n",
       "      <td>68.0</td>\n",
       "    </tr>\n",
       "    <tr>\n",
       "      <th>13</th>\n",
       "      <td>Fri, Oct 24</td>\n",
       "      <td>9402</td>\n",
       "      <td>697</td>\n",
       "      <td>194.0</td>\n",
       "      <td>94.0</td>\n",
       "    </tr>\n",
       "    <tr>\n",
       "      <th>14</th>\n",
       "      <td>Sat, Oct 25</td>\n",
       "      <td>8669</td>\n",
       "      <td>669</td>\n",
       "      <td>127.0</td>\n",
       "      <td>81.0</td>\n",
       "    </tr>\n",
       "    <tr>\n",
       "      <th>15</th>\n",
       "      <td>Sun, Oct 26</td>\n",
       "      <td>8881</td>\n",
       "      <td>693</td>\n",
       "      <td>153.0</td>\n",
       "      <td>101.0</td>\n",
       "    </tr>\n",
       "    <tr>\n",
       "      <th>16</th>\n",
       "      <td>Mon, Oct 27</td>\n",
       "      <td>9655</td>\n",
       "      <td>771</td>\n",
       "      <td>213.0</td>\n",
       "      <td>119.0</td>\n",
       "    </tr>\n",
       "    <tr>\n",
       "      <th>17</th>\n",
       "      <td>Tue, Oct 28</td>\n",
       "      <td>9396</td>\n",
       "      <td>736</td>\n",
       "      <td>162.0</td>\n",
       "      <td>120.0</td>\n",
       "    </tr>\n",
       "    <tr>\n",
       "      <th>18</th>\n",
       "      <td>Wed, Oct 29</td>\n",
       "      <td>9262</td>\n",
       "      <td>727</td>\n",
       "      <td>201.0</td>\n",
       "      <td>96.0</td>\n",
       "    </tr>\n",
       "    <tr>\n",
       "      <th>19</th>\n",
       "      <td>Thu, Oct 30</td>\n",
       "      <td>9308</td>\n",
       "      <td>728</td>\n",
       "      <td>207.0</td>\n",
       "      <td>67.0</td>\n",
       "    </tr>\n",
       "    <tr>\n",
       "      <th>20</th>\n",
       "      <td>Fri, Oct 31</td>\n",
       "      <td>8715</td>\n",
       "      <td>722</td>\n",
       "      <td>182.0</td>\n",
       "      <td>123.0</td>\n",
       "    </tr>\n",
       "    <tr>\n",
       "      <th>21</th>\n",
       "      <td>Sat, Nov 1</td>\n",
       "      <td>8448</td>\n",
       "      <td>695</td>\n",
       "      <td>142.0</td>\n",
       "      <td>100.0</td>\n",
       "    </tr>\n",
       "    <tr>\n",
       "      <th>22</th>\n",
       "      <td>Sun, Nov 2</td>\n",
       "      <td>8836</td>\n",
       "      <td>724</td>\n",
       "      <td>182.0</td>\n",
       "      <td>103.0</td>\n",
       "    </tr>\n",
       "  </tbody>\n",
       "</table>\n",
       "</div>"
      ],
      "text/plain": [
       "           Date  Pageviews  Clicks  Enrollments  Payments\n",
       "0   Sat, Oct 11       7716     686        105.0      34.0\n",
       "1   Sun, Oct 12       9288     785        116.0      91.0\n",
       "2   Mon, Oct 13      10480     884        145.0      79.0\n",
       "3   Tue, Oct 14       9867     827        138.0      92.0\n",
       "4   Wed, Oct 15       9793     832        140.0      94.0\n",
       "5   Thu, Oct 16       9500     788        129.0      61.0\n",
       "6   Fri, Oct 17       9088     780        127.0      44.0\n",
       "7   Sat, Oct 18       7664     652         94.0      62.0\n",
       "8   Sun, Oct 19       8434     697        120.0      77.0\n",
       "9   Mon, Oct 20      10496     860        153.0      98.0\n",
       "10  Tue, Oct 21      10551     864        143.0      71.0\n",
       "11  Wed, Oct 22       9737     801        128.0      70.0\n",
       "12  Thu, Oct 23       8176     642        122.0      68.0\n",
       "13  Fri, Oct 24       9402     697        194.0      94.0\n",
       "14  Sat, Oct 25       8669     669        127.0      81.0\n",
       "15  Sun, Oct 26       8881     693        153.0     101.0\n",
       "16  Mon, Oct 27       9655     771        213.0     119.0\n",
       "17  Tue, Oct 28       9396     736        162.0     120.0\n",
       "18  Wed, Oct 29       9262     727        201.0      96.0\n",
       "19  Thu, Oct 30       9308     728        207.0      67.0\n",
       "20  Fri, Oct 31       8715     722        182.0     123.0\n",
       "21   Sat, Nov 1       8448     695        142.0     100.0\n",
       "22   Sun, Nov 2       8836     724        182.0     103.0"
      ]
     },
     "execution_count": 52,
     "metadata": {},
     "output_type": "execute_result"
    }
   ],
   "source": [
    "data_exp[data_exp.Payments.notnull()] #['Payments']"
   ]
  },
  {
   "cell_type": "markdown",
   "metadata": {},
   "source": [
    "#### Retention: # of user-ids to remain enrolled past the 14-day boundary (i.e., made at least 1 payment) / # of user-ids to complete checkout (dmin=0.01)"
   ]
  },
  {
   "cell_type": "code",
   "execution_count": 65,
   "metadata": {},
   "outputs": [
    {
     "name": "stdout",
     "output_type": "stream",
     "text": [
      "Confidence Interval for retention: [0.0081,0.0541]\n",
      "Observed:  0.0311\n",
      "Statitically significant, but not pratically significant\n"
     ]
    }
   ],
   "source": [
    "ret_exp = total_payment_exp / total_enroll_exp\n",
    "ret_contr = total_payment_contr / total_enroll_contr\n",
    "ret_diff = ret_exp - ret_contr\n",
    "p_pool = (total_payment_exp + total_payment_contr) / (total_enroll_exp + total_enroll_contr)\n",
    "se_ret = math.sqrt(p_pool * (1-p_pool) * (1 / total_enroll_exp + 1 / total_enroll_contr))\n",
    "#print(se_nc)\n",
    "m = 1.96 * se_ret\n",
    "ci_min,ci_max = ret_diff-m, ret_diff+m\n",
    "print(\"Confidence Interval for retention: [{},{}]\".format(round(ci_min,4),round(ci_max,4)))\n",
    "print(\"Observed: \",round(ret_exp - ret_contr,4))\n",
    "print(\"Statitically significant, but not pratically significant\")"
   ]
  },
  {
   "cell_type": "markdown",
   "metadata": {},
   "source": [
    "#### Net conversion: # of user-ids to remain enrolled past the 14-day boundary / # of unique cookies to click the \"Start free trial\" button. (dmin= 0.0075)"
   ]
  },
  {
   "cell_type": "code",
   "execution_count": 67,
   "metadata": {},
   "outputs": [
    {
     "name": "stdout",
     "output_type": "stream",
     "text": [
      "Confidence Interval for net conversion: [-0.0116,0.0019]\n",
      "Observed:  -0.0049\n",
      "Neither statitically or practically significant\n"
     ]
    }
   ],
   "source": [
    "total_payment_exp = sum(data_exp[data_exp.Payments.notnull()]['Payments'])\n",
    "total_payment_contr = sum(data_contr[data_contr.Payments.notnull()]['Payments'])\n",
    "total_click_exp = sum(data_exp[data_exp.Payments.notnull()]['Clicks'])\n",
    "total_click_contr = sum(data_contr[data_contr.Payments.notnull()]['Clicks'])\n",
    "nc_exp = total_payment_exp / total_click_exp\n",
    "nc_contr = total_payment_contr / total_click_contr\n",
    "nc_diff = nc_exp - nc_contr\n",
    "p_pool = (total_payment_exp + total_payment_contr) / (total_click_exp + total_click_contr)\n",
    "se_nc = math.sqrt(p_pool * (1-p_pool) * (1 / total_click_exp + 1 / total_click_contr))\n",
    "#print(se_nc)\n",
    "m = 1.96 * se_nc\n",
    "ci_min,ci_max = nc_diff-m, nc_diff+m\n",
    "print(\"Confidence Interval for net conversion: [{},{}]\".format(round(ci_min,4),round(ci_max,4)))\n",
    "print(\"Observed: \",round(nc_exp - nc_contr,4))\n",
    "print(\"Neither statitically or practically significant\")"
   ]
  },
  {
   "cell_type": "markdown",
   "metadata": {},
   "source": [
    "## Sign Tests"
   ]
  },
  {
   "cell_type": "code",
   "execution_count": 85,
   "metadata": {},
   "outputs": [
    {
     "name": "stdout",
     "output_type": "stream",
     "text": [
      "% of days experiment group is larger than control group: 0.17391304347826086\n",
      "p-value: 0.0025994777679443364 , Statistically Significant: True\n"
     ]
    }
   ],
   "source": [
    "\"\"\"gross conversion\"\"\"\n",
    "alpha=0.05\n",
    "beta=0.2\n",
    "\n",
    "gc_exp=[i/j for i,j in zip(data_exp['Enrollments'], data_exp['Clicks']) if str(i) != 'nan']\n",
    "gc_cont=[i/j for i,j in zip(data_contr['Enrollments'], data_contr['Clicks']) if str(i) != 'nan']\n",
    "gc_diff=sum([i>j for i,j in zip(gc_exp,gc_cont)])\n",
    "days=len(gc_exp)\n",
    "print(f\"% of days experiment group is larger than control group: {gc_diff / days}\")\n",
    "\n",
    "# The prob of gross conversion of experiment group > gross conversion of control group is 0.5\n",
    "p_value=binom_test(gc_diff, n=days, p=0.5)\n",
    "print(\"p-value:\",p_value,\", Statistically Significant:\",p_value<alpha)"
   ]
  },
  {
   "cell_type": "code",
   "execution_count": 86,
   "metadata": {},
   "outputs": [
    {
     "name": "stdout",
     "output_type": "stream",
     "text": [
      "% of days experiment group is larger than control group: 0.5652173913043478\n",
      "p-value: 0.6776394844055175 , Statistically Significant: False\n"
     ]
    }
   ],
   "source": [
    "\"\"\"retention\"\"\"\n",
    "rt_exp=[i/j for i,j in zip(data_exp['Payments'], data_exp['Enrollments']) if str(i) != 'nan']\n",
    "rt_cont=[i/j for i,j in zip(data_contr['Payments'], data_contr['Enrollments']) if str(i) != 'nan']\n",
    "rt_diff=sum([i>j for i,j in zip(rt_exp,rt_cont)])\n",
    "days=len(rt_exp)\n",
    "print(f\"% of days experiment group is larger than control group: {rt_diff / days}\")\n",
    "\n",
    "p_value=binom_test(rt_diff, n=days, p=0.5)\n",
    "print(\"p-value:\",p_value,\", Statistically Significant:\",p_value<alpha)"
   ]
  },
  {
   "cell_type": "code",
   "execution_count": 87,
   "metadata": {},
   "outputs": [
    {
     "name": "stdout",
     "output_type": "stream",
     "text": [
      "% of days experiment group is larger than control group: 0.43478260869565216\n",
      "p-value: 0.6776394844055175 , Statistically Significant: False\n"
     ]
    }
   ],
   "source": [
    "\"\"\"net conversion\"\"\"\n",
    "nc_exp=[i/j for i,j in zip(data_exp['Payments'], data_exp['Clicks']) if str(i) != 'nan']\n",
    "nc_cont=[i/j for i,j in zip(data_contr['Payments'], data_contr['Clicks']) if str(i) != 'nan']\n",
    "nc_diff=sum([i>j for i,j in zip(nc_exp,nc_cont)])\n",
    "days=len(nc_exp)\n",
    "print(f\"% of days experiment group is larger than control group: {nc_diff / days}\")\n",
    "\n",
    "p_value=binom_test(nc_diff, n=days, p=0.5)\n",
    "print(\"p-value:\",p_value,\", Statistically Significant:\",p_value<alpha)"
   ]
  },
  {
   "cell_type": "code",
   "execution_count": 90,
   "metadata": {},
   "outputs": [
    {
     "data": {
      "text/plain": [
       "1.0"
      ]
     },
     "execution_count": 90,
     "metadata": {},
     "output_type": "execute_result"
    }
   ],
   "source": [
    "p_value = binom_test(2, 3, 0.5)\n",
    "p_value"
   ]
  },
  {
   "cell_type": "code",
   "execution_count": null,
   "metadata": {},
   "outputs": [],
   "source": []
  }
 ],
 "metadata": {
  "kernelspec": {
   "display_name": "Python 3",
   "language": "python",
   "name": "python3"
  },
  "language_info": {
   "codemirror_mode": {
    "name": "ipython",
    "version": 3
   },
   "file_extension": ".py",
   "mimetype": "text/x-python",
   "name": "python",
   "nbconvert_exporter": "python",
   "pygments_lexer": "ipython3",
   "version": "3.8.5"
  }
 },
 "nbformat": 4,
 "nbformat_minor": 4
}
